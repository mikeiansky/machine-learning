{
 "cells": [
  {
   "cell_type": "markdown",
   "id": "457c5fd3-f8df-4e5d-8fb8-a271ffb720f4",
   "metadata": {},
   "source": [
    "# 线性回归最小而二乘法测试"
   ]
  },
  {
   "cell_type": "code",
   "execution_count": 62,
   "id": "e51e317e-bc23-4797-ab49-589c39ca1c12",
   "metadata": {},
   "outputs": [],
   "source": [
    "import numpy as np"
   ]
  },
  {
   "cell_type": "markdown",
   "id": "24c62fe5-6529-4b6f-b0b7-c2b518a6cf95",
   "metadata": {},
   "source": [
    "### 加载数据"
   ]
  },
  {
   "cell_type": "code",
   "execution_count": 63,
   "id": "71572a05-7872-4f0a-9e9b-b5812b9218bc",
   "metadata": {
    "scrolled": true
   },
   "outputs": [],
   "source": [
    "dataset = np.genfromtxt('train.csv', delimiter=',')"
   ]
  },
  {
   "cell_type": "code",
   "execution_count": 64,
   "id": "653beca9-d679-4b88-8fbc-7c33cff646fe",
   "metadata": {},
   "outputs": [
    {
     "data": {
      "text/plain": [
       "array([[        nan,         nan],\n",
       "       [24.        , 21.54945196],\n",
       "       [50.        , 47.46446305],\n",
       "       ...,\n",
       "       [82.        , 88.60376995],\n",
       "       [66.        , 63.64868529],\n",
       "       [97.        , 94.9752655 ]])"
      ]
     },
     "execution_count": 64,
     "metadata": {},
     "output_type": "execute_result"
    }
   ],
   "source": [
    "dataset"
   ]
  },
  {
   "cell_type": "code",
   "execution_count": 65,
   "id": "92019dcd-59aa-44b3-af5a-8873ff845470",
   "metadata": {},
   "outputs": [
    {
     "data": {
      "text/plain": [
       "(700, 2)"
      ]
     },
     "execution_count": 65,
     "metadata": {},
     "output_type": "execute_result"
    }
   ],
   "source": [
    "dataset.shape"
   ]
  },
  {
   "cell_type": "code",
   "execution_count": 66,
   "id": "29080df8",
   "metadata": {},
   "outputs": [],
   "source": [
    "dataset = dataset[1:,:]"
   ]
  },
  {
   "cell_type": "code",
   "execution_count": 67,
   "id": "60f4645e",
   "metadata": {},
   "outputs": [
    {
     "data": {
      "text/plain": [
       "(699, 2)"
      ]
     },
     "execution_count": 67,
     "metadata": {},
     "output_type": "execute_result"
    }
   ],
   "source": [
    "dataset.shape"
   ]
  },
  {
   "cell_type": "code",
   "execution_count": 68,
   "id": "5e790ab8",
   "metadata": {},
   "outputs": [],
   "source": [
    "x_bar = np.average(dataset[:,0])"
   ]
  },
  {
   "cell_type": "code",
   "execution_count": 69,
   "id": "d28d8170",
   "metadata": {},
   "outputs": [
    {
     "data": {
      "text/plain": [
       "50.01430615164521"
      ]
     },
     "execution_count": 69,
     "metadata": {},
     "output_type": "execute_result"
    }
   ],
   "source": [
    "x_bar"
   ]
  },
  {
   "cell_type": "code",
   "execution_count": 70,
   "id": "600fd178",
   "metadata": {},
   "outputs": [],
   "source": [
    "w_molecule = np.sum(dataset[:,1] * (dataset[:,0] - x_bar))"
   ]
  },
  {
   "cell_type": "code",
   "execution_count": 71,
   "id": "d659a940",
   "metadata": {},
   "outputs": [
    {
     "data": {
      "text/plain": [
       "585563.9583792525"
      ]
     },
     "execution_count": 71,
     "metadata": {},
     "output_type": "execute_result"
    }
   ],
   "source": [
    "w_molecule"
   ]
  },
  {
   "cell_type": "code",
   "execution_count": 72,
   "id": "d158ad24",
   "metadata": {},
   "outputs": [],
   "source": [
    "size = dataset.shape[0]"
   ]
  },
  {
   "cell_type": "code",
   "execution_count": 73,
   "id": "29641544",
   "metadata": {},
   "outputs": [
    {
     "data": {
      "text/plain": [
       "699"
      ]
     },
     "execution_count": 73,
     "metadata": {},
     "output_type": "execute_result"
    }
   ],
   "source": [
    "size"
   ]
  },
  {
   "cell_type": "code",
   "execution_count": 74,
   "id": "907d3f42",
   "metadata": {},
   "outputs": [],
   "source": [
    "w_mother = np.sum(dataset[:,0] ** 2) - size * (x_bar ** 2)"
   ]
  },
  {
   "cell_type": "code",
   "execution_count": 75,
   "id": "dc754eae",
   "metadata": {},
   "outputs": [
    {
     "data": {
      "text/plain": [
       "585179.8569384834"
      ]
     },
     "execution_count": 75,
     "metadata": {},
     "output_type": "execute_result"
    }
   ],
   "source": [
    "w_mother"
   ]
  },
  {
   "cell_type": "code",
   "execution_count": 76,
   "id": "a7a604d1",
   "metadata": {},
   "outputs": [],
   "source": [
    "w = w_molecule / w_mother"
   ]
  },
  {
   "cell_type": "code",
   "execution_count": 77,
   "id": "27105f0c",
   "metadata": {},
   "outputs": [
    {
     "data": {
      "text/plain": [
       "1.0006563818563041"
      ]
     },
     "execution_count": 77,
     "metadata": {},
     "output_type": "execute_result"
    }
   ],
   "source": [
    "w"
   ]
  },
  {
   "cell_type": "code",
   "execution_count": 78,
   "id": "229ecbff",
   "metadata": {},
   "outputs": [],
   "source": [
    "b = np.sum((dataset[:,1] - w * dataset[:, 0])) / size"
   ]
  },
  {
   "cell_type": "code",
   "execution_count": 79,
   "id": "48dbe961",
   "metadata": {},
   "outputs": [
    {
     "data": {
      "text/plain": [
       "-0.10726546430098985"
      ]
     },
     "execution_count": 79,
     "metadata": {},
     "output_type": "execute_result"
    }
   ],
   "source": [
    "b"
   ]
  },
  {
   "cell_type": "code",
   "execution_count": 80,
   "id": "18c2b210",
   "metadata": {},
   "outputs": [
    {
     "data": {
      "image/png": "[encoded data removed]",
      "text/plain": [
       "<Figure size 640x480 with 1 Axes>"
      ]
     },
     "metadata": {},
     "output_type": "display_data"
    }
   ],
   "source": [
    "import matplotlib.pyplot as plt\n",
    " \n",
    "fig, ax = plt.subplots()\n",
    "ax.scatter(dataset[:,0],dataset[:,1])\n",
    "\n",
    "x_vals = np.array(ax.get_xlim())\n",
    "y_vals = b + w * x_vals\n",
    "plt.plot(x_vals, y_vals, color='red')\n",
    "\n",
    "plt.show()"
   ]
  },
  {
   "cell_type": "code",
   "execution_count": null,
   "id": "f42f89ad",
   "metadata": {},
   "outputs": [],
   "source": []
  },
  {
   "cell_type": "code",
   "execution_count": null,
   "id": "8bd4d2b4",
   "metadata": {},
   "outputs": [],
   "source": []
  }
 ],
 "metadata": {
  "kernelspec": {
   "display_name": "Python 3 (ipykernel)",
   "language": "python",
   "name": "python3"
  },
  "language_info": {
   "codemirror_mode": {
    "name": "ipython",
    "version": 3
   },
   "file_extension": ".py",
   "mimetype": "text/x-python",
   "name": "python",
   "nbconvert_exporter": "python",
   "pygments_lexer": "ipython3",
   "version": "3.11.5"
  }
 },
 "nbformat": 4,
 "nbformat_minor": 5
}
