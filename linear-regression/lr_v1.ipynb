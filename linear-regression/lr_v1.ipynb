{
 "cells": [
  {
   "cell_type": "markdown",
   "id": "457c5fd3-f8df-4e5d-8fb8-a271ffb720f4",
   "metadata": {},
   "source": [
    "# 线性回归最小而二乘法测试"
   ]
  },
  {
   "cell_type": "code",
   "execution_count": 3,
   "id": "e51e317e-bc23-4797-ab49-589c39ca1c12",
   "metadata": {},
   "outputs": [],
   "source": [
    "import numpy as np"
   ]
  },
  {
   "cell_type": "markdown",
   "id": "24c62fe5-6529-4b6f-b0b7-c2b518a6cf95",
   "metadata": {},
   "source": [
    "### 加载数据"
   ]
  },
  {
   "cell_type": "code",
   "execution_count": 4,
   "id": "71572a05-7872-4f0a-9e9b-b5812b9218bc",
   "metadata": {
    "scrolled": true
   },
   "outputs": [],
   "source": [
    "dataset = np.genfromtxt('train.csv', delimiter=',')"
   ]
  },
  {
   "cell_type": "code",
   "execution_count": 5,
   "id": "653beca9-d679-4b88-8fbc-7c33cff646fe",
   "metadata": {},
   "outputs": [
    {
     "data": {
      "text/plain": [
       "array([[        nan,         nan],\n",
       "       [24.        , 21.54945196],\n",
       "       [50.        , 47.46446305],\n",
       "       ...,\n",
       "       [82.        , 88.60376995],\n",
       "       [66.        , 63.64868529],\n",
       "       [97.        , 94.9752655 ]])"
      ]
     },
     "execution_count": 5,
     "metadata": {},
     "output_type": "execute_result"
    }
   ],
   "source": [
    "dataset"
   ]
  },
  {
   "cell_type": "code",
   "execution_count": 6,
   "id": "92019dcd-59aa-44b3-af5a-8873ff845470",
   "metadata": {},
   "outputs": [
    {
     "data": {
      "text/plain": [
       "(700, 2)"
      ]
     },
     "execution_count": 6,
     "metadata": {},
     "output_type": "execute_result"
    }
   ],
   "source": [
    "dataset.shape"
   ]
  },
  {
   "cell_type": "code",
   "execution_count": null,
   "id": "2c7eb5fa-4d1d-4a2c-9a49-33192fab02f3",
   "metadata": {},
   "outputs": [],
   "source": []
  }
 ],
 "metadata": {
  "kernelspec": {
   "display_name": "Python 3 (ipykernel)",
   "language": "python",
   "name": "python3"
  },
  "language_info": {
   "codemirror_mode": {
    "name": "ipython",
    "version": 3
   },
   "file_extension": ".py",
   "mimetype": "text/x-python",
   "name": "python",
   "nbconvert_exporter": "python",
   "pygments_lexer": "ipython3",
   "version": "3.12.4"
  }
 },
 "nbformat": 4,
 "nbformat_minor": 5
}
