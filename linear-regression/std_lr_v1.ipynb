{
 "cells": [
  {
   "cell_type": "markdown",
   "id": "b44f4e58",
   "metadata": {},
   "source": [
    "# 梯度下降测试"
   ]
  },
  {
   "cell_type": "markdown",
   "id": "b6803c19",
   "metadata": {},
   "source": [
    "### 加载数据"
   ]
  },
  {
   "cell_type": "code",
   "execution_count": 1,
   "id": "087e5ea7",
   "metadata": {},
   "outputs": [],
   "source": [
    "import numpy as np"
   ]
  },
  {
   "cell_type": "code",
   "execution_count": 2,
   "id": "1670dcd5",
   "metadata": {},
   "outputs": [],
   "source": [
    "dataset = np.genfromtxt('train.csv', delimiter=',')"
   ]
  },
  {
   "cell_type": "code",
   "execution_count": 3,
   "id": "6b2e717e",
   "metadata": {},
   "outputs": [],
   "source": [
    "dataset = dataset[1:,]"
   ]
  },
  {
   "cell_type": "code",
   "execution_count": 90,
   "id": "f9b24012",
   "metadata": {},
   "outputs": [],
   "source": [
    "# 定义超参数\n",
    "init_w,init_b,alpha = 0,0, 0.001"
   ]
  },
  {
   "cell_type": "code",
   "execution_count": 91,
   "id": "888f1383",
   "metadata": {},
   "outputs": [],
   "source": [
    "w,b=init_w,init_b"
   ]
  },
  {
   "cell_type": "code",
   "execution_count": 92,
   "id": "99249cce",
   "metadata": {},
   "outputs": [],
   "source": [
    "size = dataset.shape[0]"
   ]
  },
  {
   "cell_type": "code",
   "execution_count": 93,
   "id": "859e91c1",
   "metadata": {},
   "outputs": [],
   "source": [
    "def cost(w, b):\n",
    "    predict_y = dataset[:,0] * w + b\n",
    "    return np.sum((dataset[:,1] - predict_y) ** 2)/size"
   ]
  },
  {
   "cell_type": "code",
   "execution_count": 98,
   "id": "2d9f3281",
   "metadata": {},
   "outputs": [],
   "source": [
    "def fit(w,b,epoch):\n",
    "    for i in range(epoch):\n",
    "        \n",
    "        gb = np.sum((dataset[:,1] - (b + w * dataset[:,0]))) * 2/ size\n",
    "        gw = np.sum(((dataset[:,1] - (b + w * dataset[:,0])) * dataset[:,0]) ) * 2 / size\n",
    "        \n",
    "        w = w - alpha * gw\n",
    "        b = b - alpha * gb\n",
    "        \n",
    "        loss = cost(w , b )\n",
    "        \n",
    "        print('epoch:',i, 'w:',w,'b:',b, 'loss:', loss, 'gb:', gb, 'gw:',gw)"
   ]
  },
  {
   "cell_type": "code",
   "execution_count": 99,
   "id": "944e1b44",
   "metadata": {},
   "outputs": [
    {
     "name": "stdout",
     "output_type": "stream",
     "text": [
      "epoch: 0 w: -6.670849169037075 b: -0.09987973834091561 loss: 196485.360927657 gb: 99.87973834091561 gw: 6670.849169037075\n",
      "epoch: 1 w: -57.894256519621614 b: -0.8672350214218496 loss: 11584782.515161877 gb: 767.355283080934 gw: 51223.40735058454\n",
      "epoch: 2 w: -451.22315172888614 b: -6.759931369794083 loss: 683065553.6351742 gb: 5892.696348372233 gw: 393328.89520926453\n"
     ]
    }
   ],
   "source": [
    "fit(w,b, 3)"
   ]
  },
  {
   "cell_type": "code",
   "execution_count": 105,
   "id": "fc574434",
   "metadata": {},
   "outputs": [
    {
     "name": "stdout",
     "output_type": "stream",
     "text": [
      "epoch: 0 w: -6.670849169037075 b: -0.09987973834091561 loss: 196485.360927657 gb: 99.87973834091561 gw: 6670.849169037075\n",
      "epoch: 1 w: -57.894256519621614 b: -0.8672350214218496 loss: 11584782.515161877 gb: 767.355283080934 gw: 51223.40735058454\n",
      "epoch: 2 w: -451.22315172888614 b: -6.759931369794083 loss: 683065553.6351742 gb: 5892.696348372233 gw: 393328.89520926453\n"
     ]
    }
   ],
   "source": [
    "import numpy as np\n",
    "\n",
    "dataset = np.genfromtxt('train.csv', delimiter=',')\n",
    "\n",
    "dataset = dataset[1:,]\n",
    "\n",
    "# 定义超参数\n",
    "init_w,init_b,alpha = 0,0, 0.001\n",
    "w,b=init_w,init_b\n",
    "size = dataset.shape[0]\n",
    "\n",
    "def cost(w, b):\n",
    "    predict_y = dataset[:,0] * w + b\n",
    "    return np.sum((dataset[:,1] - predict_y) ** 2)/size\n",
    "\n",
    "def fit(w,b,epoch):\n",
    "    for i in range(epoch):\n",
    "        \n",
    "        gb = np.sum((dataset[:,1] - (b + w * dataset[:,0]))) * 2/ size\n",
    "        gw = np.sum(((dataset[:,1] - (b + w * dataset[:,0])) * dataset[:,0]) ) * 2 / size\n",
    "        \n",
    "        w = w - alpha * gw\n",
    "        b = b - alpha * gb\n",
    "        \n",
    "        loss = cost(w , b )\n",
    "        \n",
    "        print('epoch:',i, 'w:',w,'b:',b, 'loss:', loss, 'gb:', gb, 'gw:',gw)\n",
    "        \n",
    "        \n",
    "fit(w,b, 3)\n"
   ]
  },
  {
   "cell_type": "code",
   "execution_count": 108,
   "id": "5494a913",
   "metadata": {},
   "outputs": [
    {
     "name": "stdout",
     "output_type": "stream",
     "text": [
      "epoch: 0 w: -3.3354245845185373 b: -0.049939869170457805 loss: 31376.99250054584\n",
      "epoch: 1 w: -17.80898871442394 b: -0.2667486245259202 loss: 590756.5546010771\n",
      "epoch: 2 w: -80.61480859935776 b: -1.2076594561352973 loss: 11123837.340244893\n"
     ]
    }
   ],
   "source": [
    "import numpy as np\n",
    "\n",
    "dataset = np.genfromtxt('train.csv', delimiter=',')\n",
    "\n",
    "dataset = dataset[1:,]\n",
    "\n",
    "# 定义超参数\n",
    "init_w, init_b, alpha = 0, 0, 0.001\n",
    "w, b = init_w, init_b\n",
    "size = dataset.shape[0]\n",
    "\n",
    "def cost(w, b):\n",
    "    predict_y = dataset[:, 0] * w + b\n",
    "    return np.sum((dataset[:, 1] - predict_y) ** 2) / (2 * size)  # 除以 (2 * size) 是为了计算平均损失\n",
    "\n",
    "def fit(w, b, epoch):\n",
    "    for i in range(epoch):\n",
    "        predict_y = w * dataset[:, 0] + b\n",
    "        gb = np.sum(predict_y - dataset[:, 1]) / size\n",
    "        gw = np.sum((predict_y - dataset[:, 1]) * dataset[:, 0]) / size\n",
    "        \n",
    "        w = w + alpha * gw\n",
    "        b = b + alpha * gb\n",
    "        \n",
    "        loss = cost(w, b)\n",
    "        \n",
    "        print('epoch:', i, 'w:', w, 'b:', b, 'loss:', loss)\n",
    "        \n",
    "fit(w, b, 3)\n"
   ]
  },
  {
   "cell_type": "code",
   "execution_count": null,
   "id": "71bb6b7f",
   "metadata": {},
   "outputs": [],
   "source": []
  }
 ],
 "metadata": {
  "kernelspec": {
   "display_name": "Python 3 (ipykernel)",
   "language": "python",
   "name": "python3"
  },
  "language_info": {
   "codemirror_mode": {
    "name": "ipython",
    "version": 3
   },
   "file_extension": ".py",
   "mimetype": "text/x-python",
   "name": "python",
   "nbconvert_exporter": "python",
   "pygments_lexer": "ipython3",
   "version": "3.11.5"
  }
 },
 "nbformat": 4,
 "nbformat_minor": 5
}
